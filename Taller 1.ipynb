{
 "cells": [
  {
   "cell_type": "markdown",
   "metadata": {
    "id": "EPMMHHQDdWbO"
   },
   "source": [
    "# Taller 1: Ejercicios y Ejemplos en Python con NumPy\n",
    "\n",
    "## Redes Neuronales y  Aprendizaje Profundo\n",
    "\n",
    "**Estudiante:**  Yisela Andrea Nárvaez Sánchez\n",
    "\n",
    "**Carrera:** Estadística\n"
   ]
  },
  {
   "cell_type": "markdown",
   "metadata": {
    "id": "XGvoQpe3j0Es"
   },
   "source": [
    "## **1.** Propósito del Cuaderno"
   ]
  },
  {
   "cell_type": "markdown",
   "metadata": {
    "id": "D6SLDkDGdIJ7"
   },
   "source": [
    "Este cuaderno tiene como objetivo practicar e implementar ejemplos y ejercicios usando la biblioteca NumPy en Python. Se abordarán temas como indexación de arrays, operaciones matriciales, optimización por descenso de gradiente, y definición de funciones y clases en Python.\n",
    "\n"
   ]
  },
  {
   "cell_type": "markdown",
   "metadata": {
    "id": "B8kudnDEjslm"
   },
   "source": [
    "##**2**. PREPARACIÓN DEL ENTORNO"
   ]
  },
  {
   "cell_type": "markdown",
   "metadata": {
    "id": "WUNZ49VhfE50"
   },
   "source": [
    "**Instalación de la libreria numpy:**"
   ]
  },
  {
   "cell_type": "markdown",
   "metadata": {
    "id": "NV3XlyTPg7yb"
   },
   "source": [
    "El código !pip install numpy instala la biblioteca NumPy (si aún no está instalada)."
   ]
  },
  {
   "cell_type": "code",
   "execution_count": 3,
   "metadata": {
    "colab": {
     "base_uri": "https://localhost:8080/"
    },
    "executionInfo": {
     "elapsed": 2572,
     "status": "ok",
     "timestamp": 1744337001404,
     "user": {
      "displayName": "Yisela Andrea Narvaez Sanchez",
      "userId": "10848420352964827590"
     },
     "user_tz": 300
    },
    "id": "DOS_O6rUg1oC",
    "outputId": "a70b63f2-8a52-4fc7-be1c-b7fb328ac679"
   },
   "outputs": [
    {
     "name": "stdout",
     "output_type": "stream",
     "text": [
      "Requirement already satisfied: numpy in /usr/local/lib/python3.11/dist-packages (2.0.2)\n"
     ]
    }
   ],
   "source": [
    "!pip install numpy"
   ]
  },
  {
   "cell_type": "markdown",
   "metadata": {
    "id": "abqU2zhdhNUe"
   },
   "source": [
    " Carga la biblioteca NumPy y le asigna el alias 'np', lo que permite invocar sus funciones de forma más concisa en el código."
   ]
  },
  {
   "cell_type": "code",
   "execution_count": 4,
   "metadata": {
    "executionInfo": {
     "elapsed": 33,
     "status": "ok",
     "timestamp": 1744337012738,
     "user": {
      "displayName": "Yisela Andrea Narvaez Sanchez",
      "userId": "10848420352964827590"
     },
     "user_tz": 300
    },
    "id": "6Lj8pkxjfSad"
   },
   "outputs": [],
   "source": [
    "import numpy as np\n",
    "import matplotlib.pyplot as plt"
   ]
  },
  {
   "cell_type": "markdown",
   "metadata": {
    "id": "xqv3p0Uhkc3-"
   },
   "source": [
    "##**3.** EJEMPLOS BÁSICOS CON NUMPY"
   ]
  },
  {
   "cell_type": "markdown",
   "metadata": {
    "id": "M2jOpu0vlFoc"
   },
   "source": [
    "**1. Indexación básica**"
   ]
  },
  {
   "cell_type": "markdown",
   "metadata": {
    "id": "TbVP0I2vlgLW"
   },
   "source": [
    "Creamos un array unidimensional y accedemos al tercer elemento (índice 2, porque los índices comienzan en 0)"
   ]
  },
  {
   "cell_type": "code",
   "execution_count": 5,
   "metadata": {
    "colab": {
     "base_uri": "https://localhost:8080/"
    },
    "executionInfo": {
     "elapsed": 9,
     "status": "ok",
     "timestamp": 1744337022834,
     "user": {
      "displayName": "Yisela Andrea Narvaez Sanchez",
      "userId": "10848420352964827590"
     },
     "user_tz": 300
    },
    "id": "nd6yamrnlFMr",
    "outputId": "2f944e15-51d7-4167-c12f-64023d0e476d"
   },
   "outputs": [
    {
     "name": "stdout",
     "output_type": "stream",
     "text": [
      "Elemento en la posición 2: 30\n"
     ]
    }
   ],
   "source": [
    "a = np.array([10, 20, 30, 40, 50])\n",
    "print(\"Elemento en la posición 2:\", a[2])  # Output: 30"
   ]
  },
  {
   "cell_type": "markdown",
   "metadata": {
    "id": "9ODc_b6fmhXh"
   },
   "source": [
    "**2. Rebanar**"
   ]
  },
  {
   "cell_type": "markdown",
   "metadata": {
    "id": "mZIolp5gnBfW"
   },
   "source": [
    "Obtenemos una porción del array entre los índices 1 y 3 (inclusive en inicio, exclusivo en fin)"
   ]
  },
  {
   "cell_type": "code",
   "execution_count": 6,
   "metadata": {
    "colab": {
     "base_uri": "https://localhost:8080/"
    },
    "executionInfo": {
     "elapsed": 7,
     "status": "ok",
     "timestamp": 1744337407974,
     "user": {
      "displayName": "Yisela Andrea Narvaez Sanchez",
      "userId": "10848420352964827590"
     },
     "user_tz": 300
    },
    "id": "RZykj2GWjbpS",
    "outputId": "468ae67c-7a71-450e-c2f9-d4d34330fe46"
   },
   "outputs": [
    {
     "name": "stdout",
     "output_type": "stream",
     "text": [
      "[20 30 40]\n"
     ]
    }
   ],
   "source": [
    "arr = np.array([10, 20, 30, 40, 50])\n",
    "print(arr[1:4])"
   ]
  },
  {
   "cell_type": "markdown",
   "metadata": {
    "id": "fc-2zeD8qLv-"
   },
   "source": [
    " **3. Indexación de matrices 2D**"
   ]
  },
  {
   "cell_type": "markdown",
   "metadata": {
    "id": "faQIofJurLGj"
   },
   "source": [
    "Se obtiene el valor ubicado en la segunda fila y tercera columna del arreglo (índices [1, 2], recordando que la indexación inicia en 0). El resultado es 6."
   ]
  },
  {
   "cell_type": "code",
   "execution_count": 7,
   "metadata": {
    "colab": {
     "base_uri": "https://localhost:8080/"
    },
    "executionInfo": {
     "elapsed": 7,
     "status": "ok",
     "timestamp": 1744338483606,
     "user": {
      "displayName": "Yisela Andrea Narvaez Sanchez",
      "userId": "10848420352964827590"
     },
     "user_tz": 300
    },
    "id": "Iow048jmqx2x",
    "outputId": "0c35d2bc-0288-4e40-ed7c-d53ff65b0df7"
   },
   "outputs": [
    {
     "name": "stdout",
     "output_type": "stream",
     "text": [
      "6\n"
     ]
    }
   ],
   "source": [
    "\n",
    "arr = np.array([[1, 2, 3], [4, 5, 6], [7, 8, 9]])\n",
    "print(arr[1, 2])"
   ]
  },
  {
   "cell_type": "markdown",
   "metadata": {
    "id": "uVZJhpOlqJME"
   },
   "source": [
    "**4. Rebanar matrices 2D**"
   ]
  },
  {
   "cell_type": "markdown",
   "metadata": {
    "id": "B5jPHYAwsDlw"
   },
   "source": [
    "Se extrae una submatriz usando slicing (rebanado).\n",
    "\n",
    ":2 indica que se seleccionan las filas desde la fila 0 hasta la fila 1 inclusive (sin incluir la fila 2).\n",
    "1: indica que se seleccionan todas las columnas desde la columna 1 hasta la última.\n",
    "\n",
    "El resultado es una submatriz con los valores [[2, 3], [5, 6]]."
   ]
  },
  {
   "cell_type": "code",
   "execution_count": 8,
   "metadata": {
    "colab": {
     "base_uri": "https://localhost:8080/"
    },
    "executionInfo": {
     "elapsed": 54,
     "status": "ok",
     "timestamp": 1744338706976,
     "user": {
      "displayName": "Yisela Andrea Narvaez Sanchez",
      "userId": "10848420352964827590"
     },
     "user_tz": 300
    },
    "id": "othKroY_rmCn",
    "outputId": "66c79cf4-8301-478f-d8e9-ec252fe3e56a"
   },
   "outputs": [
    {
     "name": "stdout",
     "output_type": "stream",
     "text": [
      "[[2 3]\n",
      " [5 6]]\n"
     ]
    }
   ],
   "source": [
    "arr = np.array([[1, 2, 3], [4, 5, 6], [7, 8, 9]])\n",
    "print(arr[:2, 1:])"
   ]
  },
  {
   "cell_type": "markdown",
   "metadata": {
    "id": "woXaY6LxtYgY"
   },
   "source": [
    "**5. Indexación de tensores 3D**"
   ]
  },
  {
   "cell_type": "markdown",
   "metadata": {
    "id": "8KYIs6O5uIf2"
   },
   "source": [
    "Se accede al valor ubicado en la segunda matriz del tensor (tensor[1]), específicamente en la primera fila ([0]) y la tercera columna ([2]), lo cual devuelve el número 9.\n",
    "Por otro lado, al ejecutar print(tensor[1]), se imprime por completo la segunda matriz del tensor, que corresponde a:"
   ]
  },
  {
   "cell_type": "code",
   "execution_count": 9,
   "metadata": {
    "colab": {
     "base_uri": "https://localhost:8080/"
    },
    "executionInfo": {
     "elapsed": 26,
     "status": "ok",
     "timestamp": 1744339250154,
     "user": {
      "displayName": "Yisela Andrea Narvaez Sanchez",
      "userId": "10848420352964827590"
     },
     "user_tz": 300
    },
    "id": "bU42KQqqs0nV",
    "outputId": "5b2f4979-9bc4-4460-932a-b61bed0fef84"
   },
   "outputs": [
    {
     "name": "stdout",
     "output_type": "stream",
     "text": [
      "9\n",
      "[[ 7  8  9]\n",
      " [10 11 12]]\n"
     ]
    }
   ],
   "source": [
    "tensor = np.array([[[1, 2, 3], [4, 5, 6]],\n",
    "[[7, 8, 9], [10, 11, 12]],\n",
    "[[13, 14, 15], [16, 17, 18]]])\n",
    "#Acceder a elementos específicos\n",
    "print(tensor[1, 0, 2])\n",
    "#Accede a una \"porción\" completa (submatriz 2D)\n",
    "print(tensor[1])"
   ]
  },
  {
   "cell_type": "markdown",
   "metadata": {
    "id": "00E9vvGBvypd"
   },
   "source": [
    "**6. Cortar un tensor 3D**"
   ]
  },
  {
   "cell_type": "markdown",
   "metadata": {
    "id": "KxfiG_0iv5yz"
   },
   "source": [
    "El código crea un tensor tridimensional con forma (3, 3, 3), es decir, 3 matrices, cada una de 3 filas y 3 columnas, con valores del 0 al 26. Luego realiza distintos cortes (slicing):\n",
    "\n",
    "\n",
    "*   tensor[1]: selecciona toda la segunda matriz completa (índice 1) del tensor.\n",
    "\n",
    "*   tensor[:, 1, :]: selecciona la segunda fila (índice 1) de cada una de las 3 matrices.\n",
    "\n",
    "*   tensor[:, :, 2]: selecciona la tercera columna (índice 2) de cada fila en todas las matrices."
   ]
  },
  {
   "cell_type": "code",
   "execution_count": 10,
   "metadata": {
    "colab": {
     "base_uri": "https://localhost:8080/"
    },
    "executionInfo": {
     "elapsed": 14,
     "status": "ok",
     "timestamp": 1744339810041,
     "user": {
      "displayName": "Yisela Andrea Narvaez Sanchez",
      "userId": "10848420352964827590"
     },
     "user_tz": 300
    },
    "id": "1AfCyVPbvw_O",
    "outputId": "8e670259-4eb5-483b-8d66-c57550b17a84"
   },
   "outputs": [
    {
     "name": "stdout",
     "output_type": "stream",
     "text": [
      "[[ 9 10 11]\n",
      " [12 13 14]\n",
      " [15 16 17]]\n",
      "[[ 3  4  5]\n",
      " [12 13 14]\n",
      " [21 22 23]]\n",
      "[[ 2  5  8]\n",
      " [11 14 17]\n",
      " [20 23 26]]\n"
     ]
    }
   ],
   "source": [
    "tensor = np.arange(27).reshape(3, 3, 3)\n",
    "#Cortar a lo largo de la primera dimensión\n",
    "print(tensor[1])\n",
    "#Cortar a lo largo de la segunda dimensión\n",
    "print(tensor[:, 1, :])\n",
    "#Cortar a lo largo de la tercera dimensión\n",
    "print(tensor[:, :, 2])"
   ]
  },
  {
   "cell_type": "markdown",
   "metadata": {
    "id": "QgbahqdAwXvs"
   },
   "source": [
    "**7. Cortando un tensor 4D**"
   ]
  },
  {
   "cell_type": "markdown",
   "metadata": {
    "id": "tsQRWEzEwfF1"
   },
   "source": [
    "El código crea un tensor 4D de forma (2, 3, 2, 4) con valores del 0 al 47. La expresión tensor[1, 2, 0, 3] accede al valor 47, ubicado en el segundo bloque, tercera submatriz, primera fila y cuarta columna. Por otro lado, tensor[1, 2] extrae toda la tercera submatriz del segundo bloque, resultando en un subtensor 2D de tamaño (2, 4)."
   ]
  },
  {
   "cell_type": "code",
   "execution_count": 11,
   "metadata": {
    "colab": {
     "base_uri": "https://localhost:8080/"
    },
    "executionInfo": {
     "elapsed": 49,
     "status": "ok",
     "timestamp": 1744340084871,
     "user": {
      "displayName": "Yisela Andrea Narvaez Sanchez",
      "userId": "10848420352964827590"
     },
     "user_tz": 300
    },
    "id": "Ddfb1zzwweNP",
    "outputId": "dcd6a194-1293-49ec-a934-bc5df2cfa459"
   },
   "outputs": [
    {
     "name": "stdout",
     "output_type": "stream",
     "text": [
      "43\n",
      "[[40 41 42 43]\n",
      " [44 45 46 47]]\n"
     ]
    }
   ],
   "source": [
    "tensor = np.arange(48).reshape(2, 3, 2, 4)\n",
    "#Acceder a elementos específicos\n",
    "print(tensor[1, 2, 0, 3])\n",
    "#Acceder a un \"bloque\" completo (subtensor 3D)\n",
    "print(tensor[1, 2])"
   ]
  },
  {
   "cell_type": "markdown",
   "metadata": {
    "id": "6wN9_D49xhaH"
   },
   "source": [
    "**8. Indexación de tensores 4D**"
   ]
  },
  {
   "cell_type": "markdown",
   "metadata": {
    "id": "Ly-diUdZx1zF"
   },
   "source": [
    "El código crea un tensor 4D de forma (2, 3, 2, 4) con valores del 0 al 47. La expresión tensor[1] selecciona todo el segundo bloque, tensor[:, 2, :, :] extrae la tercera submatriz de cada bloque, y tensor[:, :, 0, :] obtiene la primera fila de cada submatriz en todos los bloques."
   ]
  },
  {
   "cell_type": "code",
   "execution_count": 12,
   "metadata": {
    "colab": {
     "base_uri": "https://localhost:8080/"
    },
    "executionInfo": {
     "elapsed": 11,
     "status": "ok",
     "timestamp": 1744340236659,
     "user": {
      "displayName": "Yisela Andrea Narvaez Sanchez",
      "userId": "10848420352964827590"
     },
     "user_tz": 300
    },
    "id": "CUl9RGqLxnDG",
    "outputId": "4f996dfa-827a-46f3-f8e9-f4885d818acf"
   },
   "outputs": [
    {
     "name": "stdout",
     "output_type": "stream",
     "text": [
      "[[[24 25 26 27]\n",
      "  [28 29 30 31]]\n",
      "\n",
      " [[32 33 34 35]\n",
      "  [36 37 38 39]]\n",
      "\n",
      " [[40 41 42 43]\n",
      "  [44 45 46 47]]]\n",
      "[[[16 17 18 19]\n",
      "  [20 21 22 23]]\n",
      "\n",
      " [[40 41 42 43]\n",
      "  [44 45 46 47]]]\n",
      "[[[ 0  1  2  3]\n",
      "  [ 8  9 10 11]\n",
      "  [16 17 18 19]]\n",
      "\n",
      " [[24 25 26 27]\n",
      "  [32 33 34 35]\n",
      "  [40 41 42 43]]]\n"
     ]
    }
   ],
   "source": [
    "tensor = np.arange(48).reshape(2, 3, 2, 4)\n",
    "#Cortar a lo largo de la primera dimensión\n",
    "print(tensor[1])\n",
    "#Cortar a lo largo de la segunda dimensión\n",
    "print(tensor[:, 2, :, :])\n",
    "#Cortar a lo largo de la tercera dimensión\n",
    "print(tensor[:, :, 0, :])"
   ]
  },
  {
   "cell_type": "markdown",
   "metadata": {
    "id": "esUWSR-tx4av"
   },
   "source": [
    "**9. Suma de matrices**"
   ]
  },
  {
   "cell_type": "markdown",
   "metadata": {
    "id": "G7aD4xmOyJ8o"
   },
   "source": [
    "El código crea dos matrices de tamaño 2x2, A y B, y luego las suma elemento a elemento usando A + B. Cada posición del resultado corresponde a la suma de los elementos en la misma posición de ambas matrices."
   ]
  },
  {
   "cell_type": "code",
   "execution_count": 13,
   "metadata": {
    "colab": {
     "base_uri": "https://localhost:8080/"
    },
    "executionInfo": {
     "elapsed": 7,
     "status": "ok",
     "timestamp": 1744340357578,
     "user": {
      "displayName": "Yisela Andrea Narvaez Sanchez",
      "userId": "10848420352964827590"
     },
     "user_tz": 300
    },
    "id": "W_r2p6_-yVEW",
    "outputId": "32e83573-7e50-47bb-d17d-4efacb093a1d"
   },
   "outputs": [
    {
     "name": "stdout",
     "output_type": "stream",
     "text": [
      "[[ 6  8]\n",
      " [10 12]]\n"
     ]
    }
   ],
   "source": [
    "A = np.array([[1, 2], [3, 4]])\n",
    "B = np.array([[5, 6], [7, 8]])\n",
    "result = A + B\n",
    "print(result)"
   ]
  },
  {
   "cell_type": "markdown",
   "metadata": {
    "id": "nTS6c8sxyojS"
   },
   "source": [
    "**10. Multiplicación de matrices**"
   ]
  },
  {
   "cell_type": "markdown",
   "metadata": {
    "id": "dWOLD5aXy_n2"
   },
   "source": [
    "Este código calcula el producto matricial de dos matrices 2x2, A y B, usando np.dot(). La operación multiplica las filas de A por las columnas de B y suma los productos para obtener una nueva matriz resultado."
   ]
  },
  {
   "cell_type": "code",
   "execution_count": 14,
   "metadata": {
    "colab": {
     "base_uri": "https://localhost:8080/"
    },
    "executionInfo": {
     "elapsed": 50,
     "status": "ok",
     "timestamp": 1744340554981,
     "user": {
      "displayName": "Yisela Andrea Narvaez Sanchez",
      "userId": "10848420352964827590"
     },
     "user_tz": 300
    },
    "id": "UsYrzYVzzHXN",
    "outputId": "b4c140fa-d0fb-4a48-e115-bb1e0042f07f"
   },
   "outputs": [
    {
     "name": "stdout",
     "output_type": "stream",
     "text": [
      "[[19 22]\n",
      " [43 50]]\n"
     ]
    }
   ],
   "source": [
    "A = np.array([[1, 2], [3, 4]])\n",
    "B = np.array([[5, 6], [7, 8]])\n",
    "result = np.dot(A, B)\n",
    "print(result)"
   ]
  },
  {
   "cell_type": "markdown",
   "metadata": {
    "id": "A2GCUX_ozNFz"
   },
   "source": [
    "** 11. Transposición de una matriz**"
   ]
  },
  {
   "cell_type": "markdown",
   "metadata": {
    "id": "_0MY3Hb4zSYK"
   },
   "source": [
    "El código crea una matriz 2x2 y usa np.transpose(A) para obtener su transpuesta, lo que significa que convierte las filas en columnas y viceversa."
   ]
  },
  {
   "cell_type": "code",
   "execution_count": 15,
   "metadata": {
    "colab": {
     "base_uri": "https://localhost:8080/"
    },
    "executionInfo": {
     "elapsed": 11,
     "status": "ok",
     "timestamp": 1744340673607,
     "user": {
      "displayName": "Yisela Andrea Narvaez Sanchez",
      "userId": "10848420352964827590"
     },
     "user_tz": 300
    },
    "id": "sdorZZjAzjdd",
    "outputId": "c969d5b3-12c9-4caa-ec1f-4b50f5a30d1a"
   },
   "outputs": [
    {
     "name": "stdout",
     "output_type": "stream",
     "text": [
      "[[1 3]\n",
      " [2 4]]\n"
     ]
    }
   ],
   "source": [
    "A = np.array([[1, 2], [3, 4]])\n",
    "result = np.transpose(A)\n",
    "print(result)"
   ]
  },
  {
   "cell_type": "markdown",
   "metadata": {
    "id": "KbLsNRKfznsw"
   },
   "source": [
    "**12. Matriz determinante e inversa**"
   ]
  },
  {
   "cell_type": "markdown",
   "metadata": {
    "id": "vLumaUQU0Y6Y"
   },
   "source": [
    "El código calcula el determinante e inversa de la matriz A usando NumPy.\n",
    "*   np.linalg.det(A) devuelve el determinante, y si este no es cero\n",
    "\n",
    "*   np.linalg.inv (A) obtiene la inversa de la matriz."
   ]
  },
  {
   "cell_type": "code",
   "execution_count": 16,
   "metadata": {
    "colab": {
     "base_uri": "https://localhost:8080/"
    },
    "executionInfo": {
     "elapsed": 46,
     "status": "ok",
     "timestamp": 1744341050307,
     "user": {
      "displayName": "Yisela Andrea Narvaez Sanchez",
      "userId": "10848420352964827590"
     },
     "user_tz": 300
    },
    "id": "tl2AFo230J47",
    "outputId": "e0b03d9b-428a-47f4-ebdb-b713d53b8ebd"
   },
   "outputs": [
    {
     "name": "stdout",
     "output_type": "stream",
     "text": [
      "Determinant: -2.0000000000000004\n",
      "Inverse:\n",
      " [[-2.   1. ]\n",
      " [ 1.5 -0.5]]\n"
     ]
    }
   ],
   "source": [
    "A = np.array([[1, 2], [3, 4]])\n",
    "det = np.linalg.det(A)\n",
    "inverse = np.linalg.inv(A)\n",
    "print(\"Determinant:\", det)\n",
    "print(\"Inverse:\\n\", inverse)"
   ]
  },
  {
   "cell_type": "markdown",
   "metadata": {
    "id": "xs0wXIuL0vyw"
   },
   "source": [
    "**13. Valores propios y vectores propios**"
   ]
  },
  {
   "cell_type": "markdown",
   "metadata": {
    "id": "bScbX9yf00wL"
   },
   "source": [
    "El código usa np.linalg.eig(A) para obtener los valores propios y vectores propios de la matriz A. Los valores propios indican cuánto se estiran o encogen los vectores propios, que son las direcciones que no cambian bajo la transformación."
   ]
  },
  {
   "cell_type": "code",
   "execution_count": 17,
   "metadata": {
    "colab": {
     "base_uri": "https://localhost:8080/"
    },
    "executionInfo": {
     "elapsed": 8,
     "status": "ok",
     "timestamp": 1744341072619,
     "user": {
      "displayName": "Yisela Andrea Narvaez Sanchez",
      "userId": "10848420352964827590"
     },
     "user_tz": 300
    },
    "id": "9kclSo601EVc",
    "outputId": "0c9612da-9b54-46a7-b900-ff0e82f7ffcb"
   },
   "outputs": [
    {
     "name": "stdout",
     "output_type": "stream",
     "text": [
      "Eigenvalues: [2.00000002 1.99999998]\n",
      "Eigenvectors:\n",
      " [[-0.70710677 -0.70710679]\n",
      " [ 0.70710679  0.70710677]]\n"
     ]
    }
   ],
   "source": [
    "A = np.array([[1, -1], [1, 3]])\n",
    "eigenvalues, eigenvectors = np.linalg.eig(A)\n",
    "print(\"Eigenvalues:\", eigenvalues)\n",
    "print(\"Eigenvectors:\\n\", eigenvectors)"
   ]
  },
  {
   "cell_type": "markdown",
   "metadata": {
    "id": "WhxXpMA71Lqh"
   },
   "source": [
    "**14. Solución de ecuaciones lineales**"
   ]
  },
  {
   "cell_type": "code",
   "execution_count": 20,
   "metadata": {
    "colab": {
     "base_uri": "https://localhost:8080/"
    },
    "executionInfo": {
     "elapsed": 9,
     "status": "ok",
     "timestamp": 1744343281642,
     "user": {
      "displayName": "Yisela Andrea Narvaez Sanchez",
      "userId": "10848420352964827590"
     },
     "user_tz": 300
    },
    "id": "NT9q4moc1jsU",
    "outputId": "07a3fdde-1c95-4bad-a526-360b5d8004ac"
   },
   "outputs": [
    {
     "name": "stdout",
     "output_type": "stream",
     "text": [
      "Solución: [1. 1.]\n"
     ]
    }
   ],
   "source": [
    "# Matriz de coeficientes\n",
    "A = np.array([[2, 1],[1, 1]])\n",
    "# Vector de términos independientes\n",
    "b = np.array([3, 2])\n",
    "# Resolver el sistema A·x = b\n",
    "solution = np.linalg.solve(A, b)\n",
    "print(\"Solución:\", solution)"
   ]
  },
  {
   "cell_type": "markdown",
   "metadata": {
    "id": "lwQgEuLi1P8w"
   },
   "source": [
    "El sistema de ecuaciones tiene una única solución, y np.linalg.solve() la encontró correctamente. El vector [1. 1.] representa los valores de x y y que satisfacen simultáneamente ambas ecuaciones."
   ]
  },
  {
   "cell_type": "markdown",
   "metadata": {
    "id": "ovQj5LN5-i8z"
   },
   "source": [
    " **15. Optimización mediante Descenso por Gradiente**"
   ]
  },
  {
   "cell_type": "code",
   "execution_count": 21,
   "metadata": {
    "colab": {
     "base_uri": "https://localhost:8080/"
    },
    "executionInfo": {
     "elapsed": 11,
     "status": "ok",
     "timestamp": 1744343645398,
     "user": {
      "displayName": "Yisela Andrea Narvaez Sanchez",
      "userId": "10848420352964827590"
     },
     "user_tz": 300
    },
    "id": "n720TwYP-zhq",
    "outputId": "3a6ff202-3610-40eb-a13e-10bc986159d8"
   },
   "outputs": [
    {
     "name": "stdout",
     "output_type": "stream",
     "text": [
      "Theta final: [[4.22215108]\n",
      " [2.96846751]]\n"
     ]
    }
   ],
   "source": [
    "import numpy as np\n",
    "\n",
    "# Paso 1: Generar datos\n",
    "np.random.seed(0)\n",
    "X = 2 * np.random.rand(100, 1)                     # 100 valores entre 0 y 2\n",
    "y = 4 + 3 * X + np.random.randn(100, 1)            # y = 4 + 3x + ruido\n",
    "\n",
    "# Paso 2: Agregar sesgo (1) a cada fila de X\n",
    "X_b = np.c_[np.ones((100, 1)), X]                  # X_b.shape = (100, 2)\n",
    "\n",
    "# Paso 3: Hiperparámetros\n",
    "learning_rate = 0.1\n",
    "n_iterations = 1000\n",
    "theta = np.random.randn(2, 1)                      # θ0 y θ1 iniciales aleatorios\n",
    "\n",
    "# Paso 4: Descenso por gradiente\n",
    "for iteration in range(n_iterations):\n",
    "    gradients = 2 / 100 * X_b.T.dot(X_b.dot(theta) - y)\n",
    "    theta = theta - learning_rate * gradients\n",
    "\n",
    "# Resultado final\n",
    "print(\"Theta final:\", theta)\n"
   ]
  },
  {
   "cell_type": "markdown",
   "metadata": {
    "id": "abN0ZBox2QEw"
   },
   "source": [
    "Dado un conjunto de datos X (características) y y (valores reales), se desea ajustar un modelo de regresión lineal utilizando descenso por gradiente.\n",
    "\n",
    "\n",
    "Definición de datos\n",
    "\n",
    "\n",
    "Optimización del descenso de gradiente: Dados los conjuntos de datos X e y\n",
    "\n",
    "X = np.array([\n",
    "    [x1],\n",
    "    [x2],\n",
    "    ...\n",
    "    [xm]\n",
    "])\n",
    "\n",
    "y = np.array([\n",
    "    [y1],\n",
    "    [y2],\n",
    "    ...\n",
    "    [ym]\n",
    "])\n",
    "\n",
    "\n",
    "\n",
    "Donde m es el número de muestras\n",
    "\n",
    "El modelo de regresión lineal se define como:\n",
    "\n",
    "h_theta(x, theta0, theta1)\n",
    "\n",
    "Añadimos un término de sesgo a las características, creando Xb\n",
    "\n",
    "    xb = np.array([\n",
    "    [1[x]],\n",
    "    [1[x]],\n",
    "    [1[x]]\n",
    "    ])\n",
    "\n",
    "\n",
    "    El objetivo es minimizar el error cuadrático medio:\n",
    "   \n",
    "    def cost_function(theta0, theta1, X, y):\n",
    "    m = len(y)  # Número de ejemplos\n",
    "\n",
    "    h_theta = theta0 + theta1 * X  # hθ(x^(i)) = θ0 + θ1x^(i)\n",
    "    cost = (1 / (2 * m)) * np.sum((h_theta - y) ** 2)\n",
    "    return cost\n",
    "El descenso de gradiente actualiza los parámetros θ utilizando los gradientes:\n",
    "\n",
    "    def gradient_descent(theta, alpha, gradient):\n",
    "    return theta - alpha * gradient\n",
    "El gradiente ∇J(θ) con respecto a θ se calcula como\n",
    "\n",
    "    def compute_gradient(X_b, y, theta):\n",
    "    m = len(y)\n",
    "    gradient = (1 / m) * X_b.T @ (X_b @ theta - y)  # Fórmula del gradiente\n",
    "    return gradient\n",
    "Repetimos este proceso durante un número específico de iteraciones.\n",
    "\n",
    "Los parámetros finales optimizados son:\n",
    "\n",
    "    theta =   np.array([\n",
    "              [theta[0]],\n",
    "              [theta[1]],\n",
    "    ])\n",
    "El proceso de optimización del descenso de gradiente se puede codificar en Python de la siguiente manera"
   ]
  },
  {
   "cell_type": "markdown",
   "metadata": {
    "id": "fldEifoi5i57"
   },
   "source": [
    "Este código genera datos de muestra para un modelo de regresión lineal, añade un término de sesgo a la matriz de características ( X ), e implementa el descenso de gradiente para ajustar los parámetros ( \\theta ). Se inicializan ( \\theta ) aleatoriamente, y en cada iteración, se calcula el gradiente de la función de costo respecto a ( \\theta ) y se actualizan los parámetros usando una tasa de aprendizaje fija. Después de 1000 iteraciones, se imprime el valor final de ( \\theta ), que representa los coeficientes ajustados del modelo."
   ]
  },
  {
   "cell_type": "markdown",
   "metadata": {
    "id": "Awyo0qYF5KsJ"
   },
   "source": [
    "##**4.** Funciones y clases en Python"
   ]
  },
  {
   "cell_type": "markdown",
   "metadata": {
    "id": "kG0EvMd4AZyS"
   },
   "source": [
    "**1. funciones y clases de Python**"
   ]
  },
  {
   "cell_type": "markdown",
   "metadata": {
    "id": "vKLDrC3pADd8"
   },
   "source": [
    "El código define una función llamada greet que recibe un parámetro name y devuelve un mensaje de saludo concatenando la palabra \"Hello\" con el nombre proporcionado."
   ]
  },
  {
   "cell_type": "code",
   "execution_count": 23,
   "metadata": {
    "colab": {
     "base_uri": "https://localhost:8080/"
    },
    "executionInfo": {
     "elapsed": 8,
     "status": "ok",
     "timestamp": 1744344189038,
     "user": {
      "displayName": "Yisela Andrea Narvaez Sanchez",
      "userId": "10848420352964827590"
     },
     "user_tz": 300
    },
    "id": "DhQBKfiq6t9s",
    "outputId": "5d69ae47-590d-4178-87fe-664f8d79ba35"
   },
   "outputs": [
    {
     "name": "stdout",
     "output_type": "stream",
     "text": [
      "Hello, Yisela!\n"
     ]
    }
   ],
   "source": [
    "#1. Función simple\n",
    "def greet(name):\n",
    "  return \"Hello, \" + name + \"!\"\n",
    "print(greet(\"Yisela\"))"
   ]
  },
  {
   "cell_type": "markdown",
   "metadata": {
    "id": "-AvI9Zg_AkJ8"
   },
   "source": [
    "**2. Función con parámetros y retorno**"
   ]
  },
  {
   "cell_type": "markdown",
   "metadata": {
    "id": "tnkbNJ1rAsVm"
   },
   "source": [
    "El código define una función llamada add_numbers que toma dos parámetros (a y b), calcula su suma y devuelve el resultado. Posteriormente, se llama a la función con los valores 5 y 7, y el resultado, que es 12, se guarda en la variable result."
   ]
  },
  {
   "cell_type": "code",
   "execution_count": 24,
   "metadata": {
    "colab": {
     "base_uri": "https://localhost:8080/"
    },
    "executionInfo": {
     "elapsed": 10,
     "status": "ok",
     "timestamp": 1744344192885,
     "user": {
      "displayName": "Yisela Andrea Narvaez Sanchez",
      "userId": "10848420352964827590"
     },
     "user_tz": 300
    },
    "id": "smPGGjCrA6-v",
    "outputId": "e3e791a0-e036-4365-e89f-3690b709fa87"
   },
   "outputs": [
    {
     "name": "stdout",
     "output_type": "stream",
     "text": [
      "12\n"
     ]
    }
   ],
   "source": [
    "def add_numbers(a, b):\n",
    "  sum = a + b\n",
    "  return sum\n",
    "result = add_numbers(5, 7)\n",
    "print(result)"
   ]
  },
  {
   "cell_type": "markdown",
   "metadata": {
    "id": "JLiURRg-AHPr"
   },
   "source": [
    "**3. Función con parámetro predeterminado**"
   ]
  },
  {
   "cell_type": "markdown",
   "metadata": {
    "id": "CpnzLFvqBTD_"
   },
   "source": [
    "El código define una función llamada power que calcula la potencia de un número (base) elevado a un exponente (exponent), con un valor predeterminado de 2 para el exponente. Cuando se llama con power(3), calcula \\(3^2 = 9\\), y cuando se llama con power(2, 3), calcula \\(2^3 = 8\\)."
   ]
  },
  {
   "cell_type": "code",
   "execution_count": 25,
   "metadata": {
    "colab": {
     "base_uri": "https://localhost:8080/"
    },
    "executionInfo": {
     "elapsed": 48,
     "status": "ok",
     "timestamp": 1744344353609,
     "user": {
      "displayName": "Yisela Andrea Narvaez Sanchez",
      "userId": "10848420352964827590"
     },
     "user_tz": 300
    },
    "id": "0o67hn9MBgzx",
    "outputId": "7e56a633-9f30-4f05-f291-d64dd31bec16"
   },
   "outputs": [
    {
     "name": "stdout",
     "output_type": "stream",
     "text": [
      "9\n",
      "8\n"
     ]
    }
   ],
   "source": [
    "def power(base, exponent=2):\n",
    "  return base ** exponent\n",
    "print(power(3))\n",
    "print(power(2, 3))"
   ]
  },
  {
   "cell_type": "markdown",
   "metadata": {
    "id": "JM6b3UtDBzTl"
   },
   "source": [
    "**4. Función con múltiples retornos**"
   ]
  },
  {
   "cell_type": "markdown",
   "metadata": {
    "id": "tni7iNqdB5wW"
   },
   "source": [
    "El código define una función llamada min_max que recibe una lista de números y devuelve una tupla con el menor y el mayor valor de la lista. Al llamar la función con la lista [4, 9, 2, 7, 5], se obtienen los valores 2 y 9, que se asignan a las variables minimum y maximum, respectivamente."
   ]
  },
  {
   "cell_type": "code",
   "execution_count": 26,
   "metadata": {
    "colab": {
     "base_uri": "https://localhost:8080/"
    },
    "executionInfo": {
     "elapsed": 7,
     "status": "ok",
     "timestamp": 1744344501918,
     "user": {
      "displayName": "Yisela Andrea Narvaez Sanchez",
      "userId": "10848420352964827590"
     },
     "user_tz": 300
    },
    "id": "5b8l4G1uCL1s",
    "outputId": "6340a240-1cea-4be9-8b07-0860fa71f5dc"
   },
   "outputs": [
    {
     "name": "stdout",
     "output_type": "stream",
     "text": [
      "2 9\n"
     ]
    }
   ],
   "source": [
    "def min_max(numbers):\n",
    "  return min(numbers), max(numbers)\n",
    "nums = [4, 9, 2, 7, 5]\n",
    "minimum, maximum = min_max(nums)\n",
    "print(minimum, maximum)"
   ]
  },
  {
   "cell_type": "markdown",
   "metadata": {
    "id": "eCqrC38TCReM"
   },
   "source": [
    "**5. Función con Docstring**"
   ]
  },
  {
   "cell_type": "markdown",
   "metadata": {
    "id": "A8SRXdM2CTw9"
   },
   "source": [
    "El código define una función llamada area_of_rectangle que calcula el área de un rectángulo multiplicando la longitud (length) por el ancho (width). La función incluye un docstring que describe sus parámetros y lo que retorna. Luego se llama con los valores 5.0 y 3.0, y el resultado, 15.0, se guarda en la variable area."
   ]
  },
  {
   "cell_type": "code",
   "execution_count": 27,
   "metadata": {
    "colab": {
     "base_uri": "https://localhost:8080/"
    },
    "executionInfo": {
     "elapsed": 50,
     "status": "ok",
     "timestamp": 1744344578705,
     "user": {
      "displayName": "Yisela Andrea Narvaez Sanchez",
      "userId": "10848420352964827590"
     },
     "user_tz": 300
    },
    "id": "AyrtmBBPCbuz",
    "outputId": "8f803e40-b27c-4e65-b4d8-04aa424825ef"
   },
   "outputs": [
    {
     "name": "stdout",
     "output_type": "stream",
     "text": [
      "The area of the rectangle is: 15.0\n"
     ]
    }
   ],
   "source": [
    "def area_of_rectangle(length, width):\n",
    "    \"\"\"\n",
    "    Calculates the area of a rectangle.\n",
    "    Args:\n",
    "    length (float): The length of the rectangle.\n",
    "    width (float): The width of the rectangle.\n",
    "    Returns:\n",
    "    float: The area of the rectangle.\n",
    "    \"\"\"\n",
    "    return length * width\n",
    "\n",
    "# Ejemplo de uso\n",
    "area = area_of_rectangle(5.0, 3.0)\n",
    "print(f\"The area of the rectangle is: {area}\")"
   ]
  },
  {
   "cell_type": "markdown",
   "metadata": {
    "id": "MiO6C07vCj3P"
   },
   "source": [
    "**6. Creando una clase simple**"
   ]
  },
  {
   "cell_type": "markdown",
   "metadata": {
    "id": "t21PWGypCnzG"
   },
   "source": [
    "El código define una clase llamada Dog con un método constructor __init__ que inicializa los atributos name (nombre) y age (edad) del perro. También incluye un método bark que muestra un mensaje indicando que el perro está ladrando. Luego se crea una instancia de la clase llamada dog1 con el nombre \"Buddy\" y la edad 3, y al llamar al método bark se imprime: \"Buddy is barking!\"."
   ]
  },
  {
   "cell_type": "code",
   "execution_count": 28,
   "metadata": {
    "colab": {
     "base_uri": "https://localhost:8080/"
    },
    "executionInfo": {
     "elapsed": 17,
     "status": "ok",
     "timestamp": 1744344680053,
     "user": {
      "displayName": "Yisela Andrea Narvaez Sanchez",
      "userId": "10848420352964827590"
     },
     "user_tz": 300
    },
    "id": "XwDpQYB6CzJA",
    "outputId": "8578076a-808d-4aa2-a2e4-d7d586d71c97"
   },
   "outputs": [
    {
     "name": "stdout",
     "output_type": "stream",
     "text": [
      "Buddy is barking!\n"
     ]
    }
   ],
   "source": [
    "class Dog:\n",
    "  def __init__(self, name, age):\n",
    "    self.name = name\n",
    "    self.age = age\n",
    "  def bark(self):\n",
    "    print(f\"{self.name} is barking!\")\n",
    "# Crear una instancia de la clase Perro\n",
    "dog1 = Dog(\"Buddy\", 3)\n",
    "dog1.bark()"
   ]
  },
  {
   "cell_type": "markdown",
   "metadata": {
    "id": "GpkmC86tC8_L"
   },
   "source": [
    "**7. Agregar métodos y atributos**"
   ]
  },
  {
   "cell_type": "markdown",
   "metadata": {
    "id": "qIoQjPdTC_jT"
   },
   "source": [
    "El código define una clase llamada Student con un constructor __init__ que inicializa los atributos name, age y una lista vacía llamada grades. La clase incluye métodos para agregar calificaciones (add_grade) y calcular su promedio (get_average_grade). Luego se crea una instancia llamada student1 con el nombre \"Alice\" y edad 18, se añaden las notas 85 y 92, y se calcula el promedio, que es 88.5. Finalmente, se imprime: \"Alice’s average grade: 88.5\"."
   ]
  },
  {
   "cell_type": "code",
   "execution_count": 29,
   "metadata": {
    "colab": {
     "base_uri": "https://localhost:8080/"
    },
    "executionInfo": {
     "elapsed": 44,
     "status": "ok",
     "timestamp": 1744344766181,
     "user": {
      "displayName": "Yisela Andrea Narvaez Sanchez",
      "userId": "10848420352964827590"
     },
     "user_tz": 300
    },
    "id": "73x_dyWfDJ37",
    "outputId": "45c58f48-34c7-47a9-dced-741ee3d9de4a"
   },
   "outputs": [
    {
     "name": "stdout",
     "output_type": "stream",
     "text": [
      "Alice’s average grade: 88.5\n"
     ]
    }
   ],
   "source": [
    "class Student:\n",
    "  def __init__(self, name, age):\n",
    "    self.name = name\n",
    "    self.age = age\n",
    "    self.grades = []\n",
    "  def add_grade(self, grade):\n",
    "    self.grades.append(grade)\n",
    "  def get_average_grade(self):\n",
    "    return sum(self.grades) / len(self.grades)\n",
    "# Crear una instancia de Estudiante y agregar calificaciones\n",
    "student1 = Student(\"Alice\", 18)\n",
    "student1.add_grade(85)\n",
    "student1.add_grade(92)\n",
    "average_grade = student1.get_average_grade()\n",
    "print(f\"{student1.name}’s average grade: {average_grade}\")"
   ]
  },
  {
   "cell_type": "markdown",
   "metadata": {
    "id": "rhjyiydwDQlK"
   },
   "source": [
    "**8. Herencia**"
   ]
  },
  {
   "cell_type": "markdown",
   "metadata": {
    "id": "M5C4B49bDSw_"
   },
   "source": [
    "El código demuestra el uso de herencia definiendo una clase base llamada Animal, que contiene un atributo name y un método speak sin implementación. Luego se crean las clases Cat y Dog, que heredan de Animal y sobrescriben el método speak para mostrar sonidos específicos: \"Meow!\" en el caso de los gatos y \"Woof!\" en el de los perros. Finalmente, se crean las instancias cat y dog con los nombres \"Whiskers\" y \"Buddy\", y al llamar a sus métodos speak, se imprimen los mensajes: \"Whiskers says Meow!\" y \"Buddy says Woof!\"."
   ]
  },
  {
   "cell_type": "code",
   "execution_count": 30,
   "metadata": {
    "colab": {
     "base_uri": "https://localhost:8080/"
    },
    "executionInfo": {
     "elapsed": 10,
     "status": "ok",
     "timestamp": 1744344803730,
     "user": {
      "displayName": "Yisela Andrea Narvaez Sanchez",
      "userId": "10848420352964827590"
     },
     "user_tz": 300
    },
    "id": "GjiHO6HDDTOW",
    "outputId": "fa390f64-c6ad-478e-986d-1ebc86f2f6a7"
   },
   "outputs": [
    {
     "name": "stdout",
     "output_type": "stream",
     "text": [
      "Whiskers says Meow!\n",
      "Buddy says Woof!\n"
     ]
    }
   ],
   "source": [
    "# Herencia\n",
    "class Animal:\n",
    "    def __init__(self, name):\n",
    "        self.name = name\n",
    "    def speak(self):\n",
    "        pass\n",
    "\n",
    "class Cat(Animal):\n",
    "    def speak(self):\n",
    "        print(f\"{self.name} says Meow!\")\n",
    "\n",
    "class Dog(Animal):\n",
    "    def speak(self):\n",
    "        print(f\"{self.name} says Woof!\")\n",
    "\n",
    "# Crear instancias de Gato y Perro\n",
    "cat = Cat(\"Whiskers\")\n",
    "dog = Dog(\"Buddy\")\n",
    "cat.speak()\n",
    "dog.speak()\n"
   ]
  },
  {
   "cell_type": "markdown",
   "metadata": {
    "id": "UQQ_VwsuDhAH"
   },
   "source": [
    "##**5.** Ejercicios"
   ]
  },
  {
   "cell_type": "markdown",
   "metadata": {
    "id": "2bGEpATiDzYa"
   },
   "source": [
    "**3.1 Indexación de matrices en NumPy**"
   ]
  },
  {
   "cell_type": "markdown",
   "metadata": {
    "id": "HNIwoV7rECGm"
   },
   "source": [
    "1. Dada la matriz NumPy arr = np.array([3, 7, 1, 9, 5]), realice las siguientes operaciones de indexación: a) Recuperar el tercer elemento de la matriz"
   ]
  },
  {
   "cell_type": "markdown",
   "metadata": {
    "id": "SDbm0usQFMxC"
   },
   "source": [
    "a) Recuperar el tercer elemento del arreglo."
   ]
  },
  {
   "cell_type": "markdown",
   "metadata": {
    "id": "MGhQhtt8EVrD"
   },
   "source": [
    "El código crea un arreglo de NumPy llamado arr con los valores [3, 7, 1, 9, 5] y accede al tercer elemento utilizando el índice 2 (recordando que en Python la indexación inicia en 0). Ese valor, que es 1."
   ]
  },
  {
   "cell_type": "code",
   "execution_count": 31,
   "metadata": {
    "colab": {
     "base_uri": "https://localhost:8080/"
    },
    "executionInfo": {
     "elapsed": 40,
     "status": "ok",
     "timestamp": 1744345017032,
     "user": {
      "displayName": "Yisela Andrea Narvaez Sanchez",
      "userId": "10848420352964827590"
     },
     "user_tz": 300
    },
    "id": "Us-43kPrD7Yl",
    "outputId": "daf80560-310f-46f0-e56a-8486c20106ee"
   },
   "outputs": [
    {
     "name": "stdout",
     "output_type": "stream",
     "text": [
      "1\n"
     ]
    }
   ],
   "source": [
    "arr = np.array([3, 7, 1, 9, 5])\n",
    "tercer_elemento = arr[2]\n",
    "print(tercer_elemento)"
   ]
  },
  {
   "cell_type": "markdown",
   "metadata": {
    "id": "SViJI4DYFbA1"
   },
   "source": [
    "b) Corta la matriz para obtener los elementos del índice 1 al índice 3."
   ]
  },
  {
   "cell_type": "markdown",
   "metadata": {
    "id": "XU2IWEXDFnNY"
   },
   "source": [
    "El código crea un arreglo de NumPy llamado arr con los valores [3, 7, 1, 9, 5] y luego utiliza slicing para extraer los elementos desde el índice 1 hasta el 3 (el índice 4 no se incluye). La porción resultante [7, 1, 9]."
   ]
  },
  {
   "cell_type": "code",
   "execution_count": 33,
   "metadata": {
    "colab": {
     "base_uri": "https://localhost:8080/"
    },
    "executionInfo": {
     "elapsed": 18,
     "status": "ok",
     "timestamp": 1744345428935,
     "user": {
      "displayName": "Yisela Andrea Narvaez Sanchez",
      "userId": "10848420352964827590"
     },
     "user_tz": 300
    },
    "id": "_3ikzaHmFopm",
    "outputId": "541ee1fa-eea0-4525-89d3-1f0ff7fab240"
   },
   "outputs": [
    {
     "name": "stdout",
     "output_type": "stream",
     "text": [
      "[7 1 9]\n"
     ]
    }
   ],
   "source": [
    "arr = np.array([3, 7, 1, 9, 5])\n",
    "cortar = arr[1:4]\n",
    "print(cortar)"
   ]
  },
  {
   "cell_type": "markdown",
   "metadata": {
    "id": "PA1rwR9IFvvT"
   },
   "source": [
    "c) Cambia el valor del cuarto elemento a 12"
   ]
  },
  {
   "cell_type": "markdown",
   "metadata": {
    "id": "DQrcBNzaFzgB"
   },
   "source": [
    "El código crea un arreglo de NumPy llamado arr con los valores [3, 7, 1, 9, 5] y luego modifica el cuarto elemento (índice 3) asignándole el valor 12. Como resultado, el arreglo queda como [3, 7, 1, 12, 5]."
   ]
  },
  {
   "cell_type": "code",
   "execution_count": 34,
   "metadata": {
    "colab": {
     "base_uri": "https://localhost:8080/"
    },
    "executionInfo": {
     "elapsed": 19,
     "status": "ok",
     "timestamp": 1744345564434,
     "user": {
      "displayName": "Yisela Andrea Narvaez Sanchez",
      "userId": "10848420352964827590"
     },
     "user_tz": 300
    },
    "id": "bY_OR5acF8M-",
    "outputId": "3a9d1739-f5e8-416c-aa57-dbc8ffe7e378"
   },
   "outputs": [
    {
     "name": "stdout",
     "output_type": "stream",
     "text": [
      "[ 3  7  1 12  5]\n"
     ]
    }
   ],
   "source": [
    "arr = np.array([3, 7, 1, 9, 5])\n",
    "arr[3] = 12\n",
    "print(arr)"
   ]
  },
  {
   "cell_type": "markdown",
   "metadata": {
    "id": "Pl22BI9AGY2X"
   },
   "source": [
    "**3.2 Cree una matriz NumPy 2D con los siguientes valores**"
   ]
  },
  {
   "cell_type": "code",
   "execution_count": 35,
   "metadata": {
    "colab": {
     "base_uri": "https://localhost:8080/"
    },
    "executionInfo": {
     "elapsed": 49,
     "status": "ok",
     "timestamp": 1744345665096,
     "user": {
      "displayName": "Yisela Andrea Narvaez Sanchez",
      "userId": "10848420352964827590"
     },
     "user_tz": 300
    },
    "id": "b94ibUDIGn4q",
    "outputId": "ddfeb485-4ca4-4d54-ea92-c96cb3c14856"
   },
   "outputs": [
    {
     "name": "stdout",
     "output_type": "stream",
     "text": [
      "[[1 2 3]\n",
      " [4 5 6]\n",
      " [7 8 9]]\n"
     ]
    }
   ],
   "source": [
    "arr = np.array([[1, 2, 3], [4, 5, 6], [7, 8, 9]])\n",
    "print(arr)"
   ]
  },
  {
   "cell_type": "markdown",
   "metadata": {
    "id": "p-pyfasOGji9"
   },
   "source": [
    "a) Recupere el elemento de la segunda fila y la tercera columna"
   ]
  },
  {
   "cell_type": "markdown",
   "metadata": {
    "id": "RRqt-qinG4Gr"
   },
   "source": [
    "El código crea un arreglo bidimensional de NumPy y accede al elemento ubicado en la segunda fila y tercera columna mediante arr[1, 2]. Ese valor, que es 6, se recupera y se imprime en pantalla."
   ]
  },
  {
   "cell_type": "code",
   "execution_count": 36,
   "metadata": {
    "colab": {
     "base_uri": "https://localhost:8080/"
    },
    "executionInfo": {
     "elapsed": 42,
     "status": "ok",
     "timestamp": 1744345781902,
     "user": {
      "displayName": "Yisela Andrea Narvaez Sanchez",
      "userId": "10848420352964827590"
     },
     "user_tz": 300
    },
    "id": "drA8m6tGHB7g",
    "outputId": "3579d88d-a5e6-4666-8fd6-298a8a2e2531"
   },
   "outputs": [
    {
     "name": "stdout",
     "output_type": "stream",
     "text": [
      "6\n"
     ]
    }
   ],
   "source": [
    "arr = np.array([[1, 2, 3], [4, 5, 6], [7, 8, 9]])\n",
    "elemento = arr[1, 2]\n",
    "print(elemento)"
   ]
  },
  {
   "cell_type": "markdown",
   "metadata": {
    "id": "oN9j-NNQHGHQ"
   },
   "source": [
    "b) Corta la matriz para obtener la submatriz formada por las dos primeras filas y todas las columnas"
   ]
  },
  {
   "cell_type": "markdown",
   "metadata": {
    "id": "QMPOr76PHJ0S"
   },
   "source": [
    "El código crea un arreglo bidimensional de NumPy y utiliza arr[:2, :] para extraer una submatriz que contiene las dos primeras filas (índices 0 y 1) y todas las columnas. El resultado es [[1, 2, 3], [4, 5, 6]]."
   ]
  },
  {
   "cell_type": "code",
   "execution_count": 38,
   "metadata": {
    "colab": {
     "base_uri": "https://localhost:8080/"
    },
    "executionInfo": {
     "elapsed": 10,
     "status": "ok",
     "timestamp": 1744346162593,
     "user": {
      "displayName": "Yisela Andrea Narvaez Sanchez",
      "userId": "10848420352964827590"
     },
     "user_tz": 300
    },
    "id": "hXrqDJgAHs7-",
    "outputId": "8248ce61-d99c-4d2e-fd75-b8c1e7859579"
   },
   "outputs": [
    {
     "name": "stdout",
     "output_type": "stream",
     "text": [
      "[[1 2 3]\n",
      " [4 5 6]]\n"
     ]
    }
   ],
   "source": [
    "arr = np.array([[1, 2, 3], [4, 5, 6], [7, 8, 9]])\n",
    "submatriz = arr[:2, :]\n",
    "print(submatriz)"
   ]
  },
  {
   "cell_type": "markdown",
   "metadata": {
    "id": "0K5pZyg2Izrl"
   },
   "source": []
  },
  {
   "cell_type": "markdown",
   "metadata": {
    "id": "3Z9WVs3sI0Jq"
   },
   "source": []
  },
  {
   "cell_type": "markdown",
   "metadata": {
    "id": "1ZlmQIZdI0tM"
   },
   "source": [
    "**3.2 Indexación y segmentación de tensores de dimensiones superiores Considere el siguiente tensor 3D que representa una pila de matrices:**"
   ]
  },
  {
   "cell_type": "code",
   "execution_count": 39,
   "metadata": {
    "colab": {
     "base_uri": "https://localhost:8080/"
    },
    "executionInfo": {
     "elapsed": 19,
     "status": "ok",
     "timestamp": 1744346287882,
     "user": {
      "displayName": "Yisela Andrea Narvaez Sanchez",
      "userId": "10848420352964827590"
     },
     "user_tz": 300
    },
    "id": "8C8zt090I_zP",
    "outputId": "e142d0a6-5077-467d-962a-24c4c0a3cd60"
   },
   "outputs": [
    {
     "name": "stdout",
     "output_type": "stream",
     "text": [
      "[[[ 1  2  3  4]\n",
      "  [ 5  6  7  8]\n",
      "  [ 9 10 11 12]]\n",
      "\n",
      " [[13 14 15 16]\n",
      "  [17 18 19 20]\n",
      "  [21 22 23 24]]\n",
      "\n",
      " [[25 26 27 28]\n",
      "  [29 30 31 32]\n",
      "  [33 34 35 36]]]\n"
     ]
    }
   ],
   "source": [
    "tensor = np.array([\n",
    "    [\n",
    "        [1, 2, 3, 4],\n",
    "        [5, 6, 7, 8],\n",
    "        [9, 10, 11, 12]\n",
    "    ],\n",
    "    [\n",
    "        [13, 14, 15, 16],\n",
    "        [17, 18, 19, 20],\n",
    "        [21, 22, 23, 24]\n",
    "    ],\n",
    "    [\n",
    "        [25, 26, 27, 28],\n",
    "        [29, 30, 31, 32],\n",
    "        [33, 34, 35, 36]\n",
    "    ]\n",
    "])\n",
    "\n",
    "print(tensor)\n"
   ]
  },
  {
   "cell_type": "markdown",
   "metadata": {
    "id": "1dixHY4mIzcg"
   },
   "source": [
    "1. Recupere el elemento en la posición (1, 0, 2) dentro del tensor"
   ]
  },
  {
   "cell_type": "markdown",
   "metadata": {
    "id": "L6Fuc7y7JYrh"
   },
   "source": [
    "El código crea un tensor tridimensional con NumPy, compuesto por 3 bloques, cada uno con 3 filas y 4 columnas. Luego accede al valor ubicado en la posición (1, 0, 2), es decir, el segundo bloque, primera fila y tercer elemento de esa fila, cuyo valor es 15."
   ]
  },
  {
   "cell_type": "code",
   "execution_count": 40,
   "metadata": {
    "colab": {
     "base_uri": "https://localhost:8080/"
    },
    "executionInfo": {
     "elapsed": 9,
     "status": "ok",
     "timestamp": 1744346345770,
     "user": {
      "displayName": "Yisela Andrea Narvaez Sanchez",
      "userId": "10848420352964827590"
     },
     "user_tz": 300
    },
    "id": "iHTQGetMJOIm",
    "outputId": "d099587e-b83f-4a7a-d813-8ee0543d09c7"
   },
   "outputs": [
    {
     "name": "stdout",
     "output_type": "stream",
     "text": [
      "15\n"
     ]
    }
   ],
   "source": [
    "tensor = np.array([\n",
    "    [\n",
    "        [1, 2, 3, 4],\n",
    "        [5, 6, 7, 8],\n",
    "        [9, 10, 11, 12]\n",
    "    ],\n",
    "    [\n",
    "        [13, 14, 15, 16],\n",
    "        [17, 18, 19, 20],\n",
    "        [21, 22, 23, 24]\n",
    "    ],\n",
    "    [\n",
    "        [25, 26, 27, 28],\n",
    "        [29, 30, 31, 32],\n",
    "        [33, 34, 35, 36]\n",
    "    ]\n",
    "])\n",
    "\n",
    "elemento = tensor[1, 0, 2]\n",
    "print(elemento)"
   ]
  },
  {
   "cell_type": "markdown",
   "metadata": {
    "id": "sehCGGcEIzWI"
   },
   "source": [
    "2. Cortar el tensor para obtener el subtensor 3 × 4 que corresponde a la segunda “matriz” (corte) a lo largo de la primera dimensión"
   ]
  },
  {
   "cell_type": "markdown",
   "metadata": {
    "id": "jLmj07nQJtLU"
   },
   "source": [
    "tensor[1, :, :] selecciona la segunda matriz del tensor (índice 1 en la primera dimensión) y extrae todas sus filas y columnas, es decir, toda la capa completa correspondiente a esa posición."
   ]
  },
  {
   "cell_type": "code",
   "execution_count": 41,
   "metadata": {
    "colab": {
     "base_uri": "https://localhost:8080/"
    },
    "executionInfo": {
     "elapsed": 50,
     "status": "ok",
     "timestamp": 1744346619789,
     "user": {
      "displayName": "Yisela Andrea Narvaez Sanchez",
      "userId": "10848420352964827590"
     },
     "user_tz": 300
    },
    "id": "bbH8QZMzJj6B",
    "outputId": "1edd0b43-2d4c-46d1-b529-5c28e93c3329"
   },
   "outputs": [
    {
     "name": "stdout",
     "output_type": "stream",
     "text": [
      "[[13 14 15 16]\n",
      " [17 18 19 20]\n",
      " [21 22 23 24]]\n"
     ]
    }
   ],
   "source": [
    "tensor = np.array([\n",
    "    [\n",
    "        [1, 2, 3, 4],\n",
    "        [5, 6, 7, 8],\n",
    "        [9, 10, 11, 12]\n",
    "    ],\n",
    "    [\n",
    "        [13, 14, 15, 16],\n",
    "        [17, 18, 19, 20],\n",
    "        [21, 22, 23, 24]\n",
    "    ],\n",
    "    [\n",
    "        [25, 26, 27, 28],\n",
    "        [29, 30, 31, 32],\n",
    "        [33, 34, 35, 36]\n",
    "    ]\n",
    "])\n",
    "\n",
    "subtensor = tensor[1, : ,:]\n",
    "print(subtensor)"
   ]
  },
  {
   "cell_type": "markdown",
   "metadata": {
    "id": "YbScc31wJ4KU"
   },
   "source": [
    "3. Corta el tensor para obtener el subtensor 2×4 que corresponde a la última fila de las dos últimas “matrices”."
   ]
  },
  {
   "cell_type": "markdown",
   "metadata": {
    "id": "--pk7i8cKBv8"
   },
   "source": [
    "El código crea un tensor tridimensional compuesto por tres matrices de 3x4 y luego utiliza tensor[1:3, 2, :] para extraer un subtensor de tamaño 2x4. Este corte selecciona las matrices en las posiciones 1 y 2 (1:3), la última fila de cada una (2), y todas sus columnas (:). El resultado, que contiene las últimas filas de las dos últimas matrices."
   ]
  },
  {
   "cell_type": "code",
   "execution_count": 42,
   "metadata": {
    "colab": {
     "base_uri": "https://localhost:8080/"
    },
    "executionInfo": {
     "elapsed": 21,
     "status": "ok",
     "timestamp": 1744346628678,
     "user": {
      "displayName": "Yisela Andrea Narvaez Sanchez",
      "userId": "10848420352964827590"
     },
     "user_tz": 300
    },
    "id": "4kzc_KywJ-Tj",
    "outputId": "07485b9f-81e4-4d1a-f22f-781a37eda610"
   },
   "outputs": [
    {
     "name": "stdout",
     "output_type": "stream",
     "text": [
      "[[21 22 23 24]\n",
      " [33 34 35 36]]\n"
     ]
    }
   ],
   "source": [
    "tensor = np.array([\n",
    "    [\n",
    "        [1, 2, 3, 4],\n",
    "        [5, 6, 7, 8],\n",
    "        [9, 10, 11, 12]\n",
    "    ],\n",
    "    [\n",
    "        [13, 14, 15, 16],\n",
    "        [17, 18, 19, 20],\n",
    "        [21, 22, 23, 24]\n",
    "    ],\n",
    "    [\n",
    "        [25, 26, 27, 28],\n",
    "        [29, 30, 31, 32],\n",
    "        [33, 34, 35, 36]\n",
    "    ]\n",
    "])\n",
    "\n",
    "subtensor = tensor[1:3, 2, :]\n",
    "print(subtensor)"
   ]
  },
  {
   "cell_type": "markdown",
   "metadata": {
    "id": "3KPWY-scJ6sN"
   },
   "source": [
    "4. Recupere el elemento en la posición (2, 1, 3) dentro del tensor"
   ]
  },
  {
   "cell_type": "markdown",
   "metadata": {
    "id": "0iv7KPH0KsVG"
   },
   "source": [
    "El código crea un tensor tridimensional de forma (3, 3, 4) utilizando NumPy, compuesto por tres bloques, cada uno con tres filas y cuatro columnas. Luego accede al valor ubicado en la posición [2, 1, 3], es decir, en el tercer bloque, segunda fila y cuarta columna. Ese valor corresponde a 32."
   ]
  },
  {
   "cell_type": "code",
   "execution_count": 43,
   "metadata": {
    "colab": {
     "base_uri": "https://localhost:8080/"
    },
    "executionInfo": {
     "elapsed": 49,
     "status": "ok",
     "timestamp": 1744346757994,
     "user": {
      "displayName": "Yisela Andrea Narvaez Sanchez",
      "userId": "10848420352964827590"
     },
     "user_tz": 300
    },
    "id": "8L_7zc8_Kf3I",
    "outputId": "fac09969-a24d-42ce-d189-804b289a516b"
   },
   "outputs": [
    {
     "name": "stdout",
     "output_type": "stream",
     "text": [
      "32\n"
     ]
    }
   ],
   "source": [
    "tensor = np.array([\n",
    "    [\n",
    "        [1, 2, 3, 4],\n",
    "        [5, 6, 7, 8],\n",
    "        [9, 10, 11, 12]\n",
    "    ],\n",
    "    [\n",
    "        [13, 14, 15, 16],\n",
    "        [17, 18, 19, 20],\n",
    "        [21, 22, 23, 24]\n",
    "    ],\n",
    "    [\n",
    "        [25, 26, 27, 28],\n",
    "        [29, 30, 31, 32],\n",
    "        [33, 34, 35, 36]\n",
    "    ]\n",
    "])\n",
    "subtensor = tensor[2, 1, 3]\n",
    "print(subtensor)"
   ]
  },
  {
   "cell_type": "markdown",
   "metadata": {
    "id": "Ean-dLmcHuyp"
   },
   "source": [
    "5. Corta el tensor para obtener el subtensor 2×4 que corresponde a la primera fila de las dos últimas “matrices”."
   ]
  },
  {
   "cell_type": "markdown",
   "metadata": {
    "id": "yAQcUu2UHyGS"
   },
   "source": [
    "El código crea un tensor tridimensional y aplica el corte tensor[1:3, 0, :] para obtener un subtensor de tamaño 2x4. Este corte selecciona las dos últimas matrices (índices 1 y 2), toma la primera fila de cada una (índice 0) y todas sus columnas (:). El resultado es un subtensor que contiene las primeras filas de las matrices 2 y 3."
   ]
  },
  {
   "cell_type": "code",
   "execution_count": 44,
   "metadata": {
    "colab": {
     "base_uri": "https://localhost:8080/"
    },
    "executionInfo": {
     "elapsed": 14,
     "status": "ok",
     "timestamp": 1744346835138,
     "user": {
      "displayName": "Yisela Andrea Narvaez Sanchez",
      "userId": "10848420352964827590"
     },
     "user_tz": 300
    },
    "id": "jJ-rqcwMH7Rk",
    "outputId": "c0465bb5-ebdd-4a75-ff03-c0daa9bd1413"
   },
   "outputs": [
    {
     "name": "stdout",
     "output_type": "stream",
     "text": [
      "[[13 14 15 16]\n",
      " [25 26 27 28]]\n"
     ]
    }
   ],
   "source": [
    "tensor = np.array([\n",
    "    [\n",
    "        [1, 2, 3, 4],\n",
    "        [5, 6, 7, 8],\n",
    "        [9, 10, 11, 12]\n",
    "    ],\n",
    "    [\n",
    "        [13, 14, 15, 16],\n",
    "        [17, 18, 19, 20],\n",
    "        [21, 22, 23, 24]\n",
    "    ],\n",
    "    [\n",
    "        [25, 26, 27, 28],\n",
    "        [29, 30, 31, 32],\n",
    "        [33, 34, 35, 36]\n",
    "    ]\n",
    "])\n",
    "\n",
    "subtensor = tensor[1:3, 0, :]\n",
    "print(subtensor)"
   ]
  },
  {
   "cell_type": "markdown",
   "metadata": {
    "id": "DdCZlyv1Lawn"
   },
   "source": [
    "**3.3 Definición de funciones en Python**"
   ]
  },
  {
   "cell_type": "markdown",
   "metadata": {
    "id": "7K_i-zWpLmDO"
   },
   "source": [
    "1.Escriba una función de Python para calcular el promedio que tome una lista de números como entrada y devuelva el promedio de esos números."
   ]
  },
  {
   "cell_type": "markdown",
   "metadata": {
    "id": "d3WyiJqdLsRS"
   },
   "source": [
    "El código define una función llamada calcular_promedio que toma una lista de números y devuelve su promedio. Primero verifica si la lista está vacía; si es así, retorna 0. En caso contrario, suma los elementos con sum(numeros) y divide el resultado entre la cantidad de elementos usando len(numeros) para calcular el promedio."
   ]
  },
  {
   "cell_type": "code",
   "execution_count": 45,
   "metadata": {
    "colab": {
     "base_uri": "https://localhost:8080/"
    },
    "executionInfo": {
     "elapsed": 36,
     "status": "ok",
     "timestamp": 1744347138111,
     "user": {
      "displayName": "Yisela Andrea Narvaez Sanchez",
      "userId": "10848420352964827590"
     },
     "user_tz": 300
    },
    "id": "flohyirZLz78",
    "outputId": "aae8389b-5d1c-4662-a0d9-58b71d725d93"
   },
   "outputs": [
    {
     "name": "stdout",
     "output_type": "stream",
     "text": [
      "El promedio de la lista es: 4145.4\n"
     ]
    }
   ],
   "source": [
    "def calcular_promedio(numeros):\n",
    "    if not numeros:\n",
    "        return 0\n",
    "    suma = sum(numeros)\n",
    "    promedio = suma / len(numeros)\n",
    "    return promedio\n",
    "\n",
    "# Ejemplo de uso\n",
    "lista_numeros = [1, 17, 4696, 8158, 7855]\n",
    "resultado = calcular_promedio(lista_numeros)\n",
    "print(f\"El promedio de la lista es: {resultado}\")"
   ]
  },
  {
   "cell_type": "markdown",
   "metadata": {
    "id": "MO9a5eB-L8Lp"
   },
   "source": [
    "2. Define una función que calcule la potencia de un número elevado a un exponente determinado. La función debe tener dos parámetros: base (el número base) y exponente (el valor predeterminado debe ser 2)."
   ]
  },
  {
   "cell_type": "markdown",
   "metadata": {
    "id": "8mYQEiwhL_DV"
   },
   "source": [
    "El código define una función llamada calcular_potencia que eleva un número base a un exponente, utilizando como valor por defecto el exponente 2. Dentro de la función se emplea el operador ** para realizar la operación, y se retorna el resultado. En el ejemplo, se llama a la función con la base 10 y el exponente por defecto."
   ]
  },
  {
   "cell_type": "code",
   "execution_count": 46,
   "metadata": {
    "colab": {
     "base_uri": "https://localhost:8080/"
    },
    "executionInfo": {
     "elapsed": 23,
     "status": "ok",
     "timestamp": 1744347147495,
     "user": {
      "displayName": "Yisela Andrea Narvaez Sanchez",
      "userId": "10848420352964827590"
     },
     "user_tz": 300
    },
    "id": "PLtBIeOHMMK3",
    "outputId": "c210eb74-3ab2-4cca-8676-bf675a91d029"
   },
   "outputs": [
    {
     "name": "stdout",
     "output_type": "stream",
     "text": [
      "El resultado es: 100\n"
     ]
    }
   ],
   "source": [
    "def calcular_potencia(base, exponente=2):\n",
    "    resultado = base ** exponente\n",
    "    return resultado\n",
    "    # Ejemplo de uso\n",
    "resultado = calcular_potencia(10)\n",
    "print(f\"El resultado es: {resultado}\")"
   ]
  },
  {
   "cell_type": "markdown",
   "metadata": {
    "id": "ZdQ48qNBMaV8"
   },
   "source": [
    "**3.4 Implementación de la optimización del descenso de gradiente**"
   ]
  },
  {
   "cell_type": "markdown",
   "metadata": {
    "id": "9bCIHohnMeug"
   },
   "source": [
    "1. Considere el problema de regresión lineal donde tiene los siguientes puntos de datos:\n",
    "X = [1, 2, 3, 4, 5]\n",
    "\n",
    "y = [3, 6, 8, 11, 13]\n",
    "\n",
    "Implemente un programa Python usando NumPy para realizar una optimización de descenso de gradiente para encontrar los parámetros θ0 y θ1 para el modelo de regresión lineal hθ(x) = θ0 + θ1x. Use una tasa de aprendizaje de 0,01 e itere durante 1000 pasos."
   ]
  },
  {
   "cell_type": "code",
   "execution_count": 47,
   "metadata": {
    "colab": {
     "base_uri": "https://localhost:8080/"
    },
    "executionInfo": {
     "elapsed": 55,
     "status": "ok",
     "timestamp": 1744347275562,
     "user": {
      "displayName": "Yisela Andrea Narvaez Sanchez",
      "userId": "10848420352964827590"
     },
     "user_tz": 300
    },
    "id": "EDbYg0ckMww9",
    "outputId": "ab3afc77-ece6-41ad-9335-2b857c5daf73"
   },
   "outputs": [
    {
     "name": "stdout",
     "output_type": "stream",
     "text": [
      "Iteración 0: Costo = 39.900000000000006\n",
      "Iteración 100: Costo = 0.03000318225990478\n",
      "Iteración 200: Costo = 0.030002268376474513\n",
      "Iteración 300: Costo = 0.030001617177039138\n",
      "Iteración 400: Costo = 0.03000115292219137\n",
      "Iteración 500: Costo = 0.030000821944380335\n",
      "Iteración 600: Costo = 0.03000058598279176\n",
      "Iteración 700: Costo = 0.030000417760423254\n",
      "Iteración 800: Costo = 0.03000029783088123\n",
      "Iteración 900: Costo = 0.03000021233039047\n",
      "\n",
      "Parámetros optimizados:\n",
      "θ0 = 0.6987103088315966\n",
      "θ1 = 2.5003572237733835\n"
     ]
    }
   ],
   "source": [
    "# Datos de entrada (x: características, y: etiquetas)\n",
    "x = np.array([[1],[2], [3], [4], [5]])\n",
    "y = np.array([[3], [6], [8], [11], [13]])\n",
    "\n",
    "# Inicialización de parámetros\n",
    "theta_0 = 0.0  # Intersección inicial\n",
    "theta_1 = 0.0  # Pendiente inicial\n",
    "\n",
    "# Configuración del algoritmo\n",
    "alpha = 0.01  # Tasa de aprendizaje\n",
    "num_iter = 1000  # Número de iteraciones\n",
    "m = len(y)  # Número de ejemplos\n",
    "\n",
    "# Gradiente descendente\n",
    "for i in range(num_iter):\n",
    "    # Calcular las predicciones\n",
    "    h = theta_0 + theta_1 * x\n",
    "\n",
    "    # Calcular los gradientes\n",
    "    grad_theta_0 = (1 / m) * np.sum(h - y)\n",
    "    grad_theta_1 = (1 / m) * np.sum((h - y) * x)\n",
    "\n",
    "    # Actualizar los parámetros\n",
    "    theta_0 -= alpha * grad_theta_0\n",
    "    theta_1 -= alpha * grad_theta_1\n",
    "\n",
    "    # Imprimir el costo cada 100 iteraciones (opcional)\n",
    "    if i % 100 == 0:\n",
    "        costo = (1 / (2 * m)) * np.sum((h - y) ** 2)\n",
    "        print(f\"Iteración {i}: Costo = {costo}\")\n",
    "\n",
    "# Resultado final\n",
    "print(\"\\nParámetros optimizados:\")\n",
    "print(f\"θ0 = {theta_0}\")\n",
    "print(f\"θ1 = {theta_1}\")\n"
   ]
  },
  {
   "cell_type": "markdown",
   "metadata": {
    "id": "p5roi3XZM_QB"
   },
   "source": [
    "2.Dibuje en un gráfico el progreso de los parámetros θ0 y θ1 a través de los pasos."
   ]
  },
  {
   "cell_type": "code",
   "execution_count": 48,
   "metadata": {
    "colab": {
     "base_uri": "https://localhost:8080/",
     "height": 488
    },
    "executionInfo": {
     "elapsed": 498,
     "status": "ok",
     "timestamp": 1744347406581,
     "user": {
      "displayName": "Yisela Andrea Narvaez Sanchez",
      "userId": "10848420352964827590"
     },
     "user_tz": 300
    },
    "id": "JFz5BQVXNFtA",
    "outputId": "7fc3a0c8-e10d-4d14-8c35-7ebe27e6717e"
   },
   "outputs": [
    {
     "data": {
      "image/png": "[encoded data removed]",
      "text/plain": [
       "<Figure size 1000x500 with 1 Axes>"
      ]
     },
     "metadata": {},
     "output_type": "display_data"
    }
   ],
   "source": [
    "# Datos de entrada (x: características, y: etiquetas)\n",
    "x = np.array([[1],[2], [3], [4], [5]])\n",
    "y = np.array([[3], [6], [8], [11], [13]])\n",
    "\n",
    "# Inicialización de parámetros\n",
    "theta_0 = 0.0  # Intersección inicial\n",
    "theta_1 = 0.0  # Pendiente inicial\n",
    "\n",
    "# Configuración del algoritmo\n",
    "alpha = 0.01  # Tasa de aprendizaje\n",
    "num_iter = 1000  # Número de iteraciones\n",
    "m = len(y)  # Número de ejemplos\n",
    "\n",
    "# Para guardar los valores de θ0 y θ1 en cada paso\n",
    "theta_0_history = []\n",
    "theta_1_history = []\n",
    "\n",
    "# Gradiente descendente\n",
    "for i in range(num_iter):\n",
    "    # Calcular las predicciones\n",
    "    h = theta_0 + theta_1 * x\n",
    "\n",
    "    # Calcular los gradientes\n",
    "    grad_theta_0 = (1 / m) * np.sum(h - y)\n",
    "    grad_theta_1 = (1 / m) * np.sum((h - y) * x)\n",
    "\n",
    "    # Guardar valores de θ0 y θ1\n",
    "    theta_0_history.append(theta_0)\n",
    "    theta_1_history.append(theta_1)\n",
    "\n",
    "    # Actualizar los parámetros\n",
    "    theta_0 -= alpha * grad_theta_0\n",
    "    theta_1 -= alpha * grad_theta_1\n",
    "\n",
    "# Graficar el progreso de los parámetros\n",
    "plt.figure(figsize=(10, 5))\n",
    "plt.plot(theta_0_history, label=\"θ0 (Intersección)\")\n",
    "plt.plot(theta_1_history, label=\"θ1 (Pendiente)\")\n",
    "plt.xlabel(\"Iteraciones\")\n",
    "plt.ylabel(\"Valor del parámetro\")\n",
    "plt.title(\"Progreso de los parámetros θ0 y θ1 durante el descenso de gradiente\")\n",
    "plt.legend()\n",
    "plt.grid()\n",
    "plt.show()\n"
   ]
  },
  {
   "cell_type": "markdown",
   "metadata": {
    "id": "a9r7AMrDOVIU"
   },
   "source": [
    "Evolución de los parámetros θ₀ y θ₁\n",
    "\n",
    "La gráfica resultante ilustra cómo cambian los valores de **θ₀** (intercepto) y **θ₁** (pendiente) a lo largo de las iteraciones del descenso por gradiente.  \n",
    "En cada paso, los parámetros se actualizan para reducir el error, y sus valores se almacenan en listas (`theta_0_history` y `theta_1_history`).\n",
    "\n",
    "Con Matplotlib, se grafican estos valores en función del número de iteraciones, lo que permite observar cómo los parámetros se acercan progresivamente a su valor óptimo.\n",
    "\n",
    "- El eje **x** representa el número de iteraciones.\n",
    "- El eje **y** muestra los valores de los parámetros.\n",
    "- Se utilizan líneas separadas para visualizar la evolución de **θ₀** y **θ₁**.\n",
    "\n",
    "La gráfica incluye etiquetas, una leyenda y una cuadrícula para facilitar su interpretación.\n"
   ]
  },
  {
   "cell_type": "markdown",
   "metadata": {
    "id": "qb15D3GwPA49"
   },
   "source": [
    "3. Explique con sus propias palabras el propósito de la tasa de aprendizaje en la optimización del descenso de gradiente."
   ]
  },
  {
   "cell_type": "markdown",
   "metadata": {
    "id": "ul1_CUu7PGZf"
   },
   "source": [
    "La tasa de aprendizaje es un valor clave en el proceso de optimización del descenso de gradiente, ya que determina qué tan grandes serán los pasos que damos para ajustar los parámetros del modelo en cada iteración. Si este valor es demasiado alto, el modelo puede \"pasarse\" del mínimo óptimo, oscilando sin estabilizarse. Por otro lado, si es muy bajo, el aprendizaje será lento y podría no converger en un tiempo razonable. Es como encontrar el ritmo adecuado para caminar hacia una meta: ni tan rápido que perdamos el control, ni tan lento que nunca lleguemos. El objetivo es avanzar de forma constante y eficiente hacia el punto donde el error del modelo sea mínimo."
   ]
  }
 ],
 "metadata": {
  "colab": {
   "authorship_tag": "ABX9TyMIivR1OBkrnc/V6nLpMMD/",
   "provenance": []
  },
  "kernelspec": {
   "display_name": "Python 3",
   "name": "python3"
  },
  "language_info": {
   "name": "python"
  }
 },
 "nbformat": 4,
 "nbformat_minor": 0
}
